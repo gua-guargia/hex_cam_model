{
 "cells": [
  {
   "cell_type": "code",
   "execution_count": 1,
   "metadata": {},
   "outputs": [],
   "source": [
    "from tensorflow.keras.preprocessing.image import ImageDataGenerator\n",
    "\n",
    "from tensorflow.keras.utils import to_categorical\n",
    "from sklearn.preprocessing import LabelBinarizer\n",
    "from sklearn.model_selection import train_test_split\n",
    "from sklearn.metrics import classification_report\n",
    "from sklearn.metrics import confusion_matrix\n",
    "from IPython.display import FileLink\n",
    "from imutils import paths\n",
    "import matplotlib.pyplot as plt\n",
    "import pandas as pd\n",
    "import numpy as np\n",
    "\n",
    "np.random.seed(0)\n",
    "\n",
    "import random\n",
    "import shutil\n",
    "import cv2\n",
    "import os"
   ]
  },
  {
   "cell_type": "code",
   "execution_count": 3,
   "metadata": {},
   "outputs": [],
   "source": [
    "import pickle"
   ]
  },
  {
   "cell_type": "code",
   "execution_count": 21,
   "metadata": {},
   "outputs": [],
   "source": [
    "from PIL import Image\n",
    "import numpy as np\n",
    "from skimage import transform"
   ]
  },
  {
   "cell_type": "code",
   "execution_count": 170,
   "metadata": {},
   "outputs": [],
   "source": [
    "RFC_Model = pickle.load(open('RF_model.pkl', 'rb'))\n",
    "LR_Model = pickle.load(open('LR_model.pkl', 'rb'))\n",
    "SVM_Model = pickle.load(open('SVM_model.pkl', 'rb'))"
   ]
  },
  {
   "cell_type": "code",
   "execution_count": 16,
   "metadata": {},
   "outputs": [],
   "source": [
    "import keras\n",
    "from keras.applications import VGG16\n",
    "from keras import models, layers, optimizers\n",
    "from keras.preprocessing.image import ImageDataGenerator\n"
   ]
  },
  {
   "cell_type": "code",
   "execution_count": 17,
   "metadata": {},
   "outputs": [],
   "source": [
    "reconstructed_model = keras.models.load_model(\"keras_model\")"
   ]
  },
  {
   "cell_type": "code",
   "execution_count": 205,
   "metadata": {},
   "outputs": [],
   "source": [
    "def predict_single(img_file):\n",
    "    heading = ['model', 'probability', 'prediction']\n",
    "    covid_RF = predict_Covid_RF(img_file)\n",
    "    covid_LR = predict_Covid_LR(img_file)\n",
    "    covid_SVM = predict_Covid_RF(img_file)\n",
    "    pneu = pneumonia_CNN(img_file)\n",
    "    out = np.vstack((heading, covid_RF, covid_LR, covid_SVM, pneu))\n",
    "    return (out)\n"
   ]
  },
  {
   "cell_type": "code",
   "execution_count": 201,
   "metadata": {},
   "outputs": [],
   "source": [
    "RF_list = []\n",
    "def predict_Covid_RF(img_file):\n",
    "    'function to take image and return prediction'\n",
    "    test_image = cv2.imread(img_file)\n",
    "    test_image = cv2.cvtColor(test_image, cv2.IMREAD_GRAYSCALE)\n",
    "    test_image = cv2.resize(test_image, (224, 224))\n",
    "    test_img = test_image.flatten().reshape(1, -1)\n",
    "    \n",
    "\n",
    "    RFC_pred_prob = RFC_Model.predict_proba(test_img)\n",
    "    RFC_pred = RFC_Model.predict(test_img)\n",
    "\n",
    "    RF_list = ['RF_Covid', RFC_pred_prob[0,0], RFC_pred[0]]\n",
    "\n",
    "    return (RF_list)\n"
   ]
  },
  {
   "cell_type": "code",
   "execution_count": 202,
   "metadata": {},
   "outputs": [],
   "source": [
    "LR_list = []\n",
    "def predict_Covid_LR(img_file):\n",
    "    'function to take image and return prediction'\n",
    "    test_image = cv2.imread(img_file)\n",
    "    test_image = cv2.cvtColor(test_image, cv2.IMREAD_GRAYSCALE)\n",
    "    test_image = cv2.resize(test_image, (224, 224))\n",
    "    test_img = test_image.flatten().reshape(1, -1)\n",
    "    \n",
    "\n",
    "    LR_pred_prob = LR_Model.predict_proba(test_img)\n",
    "    LR_pred = LR_Model.predict(test_img)\n",
    "\n",
    "    LR_list = ['LR_Covid', LR_pred_prob[0,0], LR_pred[0]]\n",
    "\n",
    "    return (LR_list)\n"
   ]
  },
  {
   "cell_type": "code",
   "execution_count": 203,
   "metadata": {},
   "outputs": [],
   "source": [
    "SVM_list = []\n",
    "def predict_Covid_SVM(img_file):\n",
    "    'function to take image and return prediction'\n",
    "    test_image = cv2.imread(img_file)\n",
    "    test_image = cv2.cvtColor(test_image, cv2.IMREAD_GRAYSCALE)\n",
    "    test_image = cv2.resize(test_image, (224, 224))\n",
    "    test_img = test_image.flatten().reshape(1, -1)\n",
    "    \n",
    "\n",
    "    SVM_pred_prob = 'Na'\n",
    "    SVM_pred = SVM_Model.predict(test_img)\n",
    "\n",
    "    SVM_list = ['SVM_Covid', SVM_pred_prob, SVM_pred[0]]\n",
    "\n",
    "    return (SVM_list)\n"
   ]
  },
  {
   "cell_type": "code",
   "execution_count": 180,
   "metadata": {},
   "outputs": [
    {
     "data": {
      "text/plain": [
       "['SVM_Covid', 'Na', 'covid']"
      ]
     },
     "execution_count": 180,
     "metadata": {},
     "output_type": "execute_result"
    }
   ],
   "source": [
    "    predict_Covid_SVM('dataset/covid/01E392EE-69F9-4E33-BFCE-E5C968654078.jpeg')"
   ]
  },
  {
   "cell_type": "code",
   "execution_count": 41,
   "metadata": {},
   "outputs": [],
   "source": [
    "arrayList = []"
   ]
  },
  {
   "cell_type": "code",
   "execution_count": 92,
   "metadata": {},
   "outputs": [],
   "source": [
    "def iload(filename):\n",
    "    np_image = Image.open(filename)\n",
    "    np_image = np.array(np_image).astype('float32')/255\n",
    "    np_image = transform.resize(np_image, (150, 150, 3))\n",
    "    np_image = np.expand_dims(np_image, axis=0)\n",
    "    return np_image\n"
   ]
  },
  {
   "cell_type": "code",
   "execution_count": 157,
   "metadata": {},
   "outputs": [],
   "source": [
    "def pneumonia_CNN(img_file): \n",
    "    iload(img_file)\n",
    "    image = iload(img_file)\n",
    "    pred_pnemonia = (1-reconstructed_model.predict(image))\n",
    "    if reconstructed_model.predict(image) <0.5: \n",
    "        out_pneu= 'normal'\n",
    "    if reconstructed_model.predict(image) >0.5: \n",
    "        out_pneu = 'pneumonia'\n",
    "    arrayList = ['Pneumonia_CNN', pred_pnemonia[0,0], out_pneu]\n",
    "    return(arrayList)"
   ]
  },
  {
   "cell_type": "code",
   "execution_count": 206,
   "metadata": {},
   "outputs": [
    {
     "data": {
      "text/plain": [
       "array([['model', 'probability', 'prediction'],\n",
       "       ['RF_Covid', '0.93', 'covid'],\n",
       "       ['LR_Covid', '0.9999991825824696', 'covid'],\n",
       "       ['RF_Covid', '0.93', 'covid'],\n",
       "       ['Pneumonia_CNN', '0.99973696', 'normal']], dtype='<U18')"
      ]
     },
     "execution_count": 206,
     "metadata": {},
     "output_type": "execute_result"
    }
   ],
   "source": [
    "predict_single('archive/chest_xray/test/NORMAL/IM-0001-0001.jpeg')"
   ]
  },
  {
   "cell_type": "code",
   "execution_count": 155,
   "metadata": {},
   "outputs": [
    {
     "data": {
      "text/plain": [
       "['Pneumonia_CNN', 'normal', 0.9999961]"
      ]
     },
     "execution_count": 155,
     "metadata": {},
     "output_type": "execute_result"
    }
   ],
   "source": [
    "pneumonia_CNN('archive/chest_xray/train/NORMAL/IM-0115-0001.jpeg')"
   ]
  },
  {
   "cell_type": "markdown",
   "metadata": {},
   "source": [
    "### How we buit it \n",
    "We sourced an opensource chest x-ray data set with labels for normal and pneuamonia, and a subset of these indivduals had labels for normal and covid (n=, n= . "
   ]
  },
  {
   "cell_type": "code",
   "execution_count": null,
   "metadata": {},
   "outputs": [],
   "source": []
  },
  {
   "cell_type": "code",
   "execution_count": null,
   "metadata": {},
   "outputs": [],
   "source": []
  }
 ],
 "metadata": {
  "kernelspec": {
   "display_name": "Python 3",
   "language": "python",
   "name": "python3"
  },
  "language_info": {
   "codemirror_mode": {
    "name": "ipython",
    "version": 3
   },
   "file_extension": ".py",
   "mimetype": "text/x-python",
   "name": "python",
   "nbconvert_exporter": "python",
   "pygments_lexer": "ipython3",
   "version": "3.8.5"
  }
 },
 "nbformat": 4,
 "nbformat_minor": 4
}
